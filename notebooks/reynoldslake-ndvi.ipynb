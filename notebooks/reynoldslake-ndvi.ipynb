{
 "cells": [
  {
   "cell_type": "code",
   "execution_count": 1,
   "metadata": {},
   "outputs": [
    {
     "ename": "ModuleNotFoundError",
     "evalue": "No module named 'earthpy.appeears'",
     "output_type": "error",
     "traceback": [
      "\u001b[0;31m---------------------------------------------------------------------------\u001b[0m",
      "\u001b[0;31mModuleNotFoundError\u001b[0m                       Traceback (most recent call last)",
      "\u001b[1;32m/workspaces/taylor-obrien.github.io/notebooks/reynoldslake-ndvi.ipynb Cell 1\u001b[0m line \u001b[0;36m1\n\u001b[1;32m      <a href='vscode-notebook-cell://codespaces%2Bsolid-eureka-pjr966pvqx5927qp5/workspaces/taylor-obrien.github.io/notebooks/reynoldslake-ndvi.ipynb#W0sdnNjb2RlLXJlbW90ZQ%3D%3D?line=6'>7</a>\u001b[0m \u001b[39mimport\u001b[39;00m \u001b[39mwarnings\u001b[39;00m\n\u001b[1;32m      <a href='vscode-notebook-cell://codespaces%2Bsolid-eureka-pjr966pvqx5927qp5/workspaces/taylor-obrien.github.io/notebooks/reynoldslake-ndvi.ipynb#W0sdnNjb2RlLXJlbW90ZQ%3D%3D?line=7'>8</a>\u001b[0m \u001b[39mfrom\u001b[39;00m \u001b[39mglob\u001b[39;00m \u001b[39mimport\u001b[39;00m glob\n\u001b[0;32m---> <a href='vscode-notebook-cell://codespaces%2Bsolid-eureka-pjr966pvqx5927qp5/workspaces/taylor-obrien.github.io/notebooks/reynoldslake-ndvi.ipynb#W0sdnNjb2RlLXJlbW90ZQ%3D%3D?line=9'>10</a>\u001b[0m \u001b[39mimport\u001b[39;00m \u001b[39mearthpy\u001b[39;00m\u001b[39m.\u001b[39;00m\u001b[39mappeears\u001b[39;00m \u001b[39mas\u001b[39;00m \u001b[39metapp\u001b[39;00m\n\u001b[1;32m     <a href='vscode-notebook-cell://codespaces%2Bsolid-eureka-pjr966pvqx5927qp5/workspaces/taylor-obrien.github.io/notebooks/reynoldslake-ndvi.ipynb#W0sdnNjb2RlLXJlbW90ZQ%3D%3D?line=10'>11</a>\u001b[0m \u001b[39mimport\u001b[39;00m \u001b[39mfolium\u001b[39;00m\n\u001b[1;32m     <a href='vscode-notebook-cell://codespaces%2Bsolid-eureka-pjr966pvqx5927qp5/workspaces/taylor-obrien.github.io/notebooks/reynoldslake-ndvi.ipynb#W0sdnNjb2RlLXJlbW90ZQ%3D%3D?line=11'>12</a>\u001b[0m \u001b[39mimport\u001b[39;00m \u001b[39mgeopandas\u001b[39;00m \u001b[39mas\u001b[39;00m \u001b[39mgpd\u001b[39;00m\n",
      "\u001b[0;31mModuleNotFoundError\u001b[0m: No module named 'earthpy.appeears'"
     ]
    }
   ],
   "source": [
    "# Set up the environment\n",
    "\n",
    "import logging\n",
    "import os\n",
    "import pathlib\n",
    "import subprocess\n",
    "import warnings\n",
    "from glob import glob\n",
    "\n",
    "import earthpy.appeears as etapp\n",
    "import folium\n",
    "import geopandas as gpd\n",
    "import hvplot.pandas\n",
    "import hvplot.xarray\n",
    "import pandas as pd\n",
    "import rioxarray as rxr\n",
    "import xarray as xr\n",
    "\n",
    "# Set up logging so AppeearsDownloader will log in notebook\n",
    "logging.basicConfig(level=logging.INFO)\n",
    "\n",
    "# Ignore FutureWarning coming from hvplot\n",
    "warnings.simplefilter(action='ignore', category=FutureWarning)"
   ]
  },
  {
   "cell_type": "code",
   "execution_count": null,
   "metadata": {},
   "outputs": [],
   "source": [
    "# setting up a directory to my computer\n",
    "\n",
    "project_directory = os.path.join(\n",
    "    pathlib.Path.home(), 'earth-analytics', 'data', 'reynolds-fire')\n",
    "os.makedirs(project_directory, exist_ok=True)\n",
    "project_directory"
   ]
  },
  {
   "cell_type": "code",
   "execution_count": null,
   "metadata": {},
   "outputs": [],
   "source": [
    "reynolds_df = gpd.read_file(\n",
    "    \"https://services3.arcgis.com/T4QMspbfLg3qTGWY/arcgis/rest/services\"\n",
    "    \"/Historic_Geomac_Perimeters_2018/FeatureServer/0/query?where\"\n",
    "    \"=incidentname%20%3D%20'REYNOLDS%20LAKE'%20AND%20latest%20%3D%20'Y'\"\n",
    "    \"&outFields=*&outSR=4326&f=json\")\n",
    "reynolds_df"
   ]
  },
  {
   "cell_type": "code",
   "execution_count": null,
   "metadata": {},
   "outputs": [],
   "source": [
    "# Darby, MO location \n",
    "# from https://latitude.to/articles-by-country/us/united-states/57719/darby-montana\n",
    "reynolds_lat = 45.564\n",
    "reynolds_lon = -114.513\n",
    "\n",
    "# Create a Folium map object\n",
    "m = folium.Map(\n",
    "    location=[reynolds_lat, reynolds_lon],\n",
    "    zoom_start=14,\n",
    "    scrollWheelZoom=False,\n",
    "    tiles='Stamen Watercolor')\n",
    "\n",
    "# Convert the GeoDataFrame to GeoJSON format\n",
    "geojson_data = reynolds_df.to_json()\n",
    "\n",
    "# Add the GeoJSON data to the map as a GeoJson layer\n",
    "camp_style = {\n",
    "    \"fillColor\": \"red\",\n",
    "    \"color\": \"black\",\n",
    "    \"weight\": 2,\n",
    "    \"dashArray\":\"5, 5\",\n",
    "}\n",
    "\n",
    "folium.GeoJson(\n",
    "    geojson_data,\n",
    "    style_function=lambda feature: camp_style\n",
    "    ).add_to(m)\n",
    "\n",
    "# Add a marker\n",
    "folium.Marker(location=[reynolds_lat, reynolds_lon]).add_to(m)\n",
    "\n",
    "# Save the map as an HTML file or display it inline\n",
    "m.save('map.html')\n",
    "m"
   ]
  },
  {
   "cell_type": "code",
   "execution_count": null,
   "metadata": {},
   "outputs": [],
   "source": [
    "# Initialize AppeearsDownloader for MODIS NDVI data\n",
    "ndvi_downloader = etapp.AppeearsDownloader(\n",
    "    download_key=\"modis-ndvi\",\n",
    "    ea_dir=project_directory,\n",
    "    product=\"MYD13Q1.061\",\n",
    "    layer=\"_250m_16_days_NDVI\",\n",
    "    start_date=\"06-01\",\n",
    "    end_date=\"08-31\",\n",
    "    recurring=True,\n",
    "    year_range=[2017, 2022],\n",
    "    polygon=reynolds_df,\n",
    ")\n",
    "\n",
    "# Download files if the download directory does not exist\n",
    "if not os.path.exists(ndvi_downloader.data_dir):\n",
    "    ndvi_downloader.download_files()\n",
    "\n",
    "ndvi_downloader"
   ]
  },
  {
   "cell_type": "code",
   "execution_count": null,
   "metadata": {},
   "outputs": [],
   "source": [
    "ndvi_path_list = glob(os.path.join(\n",
    "    ndvi_downloader.data_dir, '*', '*NDVI*.tif'))\n",
    "ndvi_path_list"
   ]
  },
  {
   "cell_type": "code",
   "execution_count": null,
   "metadata": {},
   "outputs": [],
   "source": [
    "doy_start = -19\n",
    "doy_end = -12\n",
    "scale_factor = 10000\n",
    "\n",
    "ndvi_da_list = []\n",
    "for ndvi_path in ndvi_path_list:\n",
    "    # Get date from file name\n",
    "    doy = ndvi_path[doy_start:doy_end]\n",
    "    date = pd.to_datetime(doy, format=\"%Y%j\")\n",
    "\n",
    "    # Open dataset\n",
    "    da = rxr.open_rasterio(ndvi_path, masked=True).squeeze()\n",
    "\n",
    "    # Prepare to concatenate: Add date dimension and clean up metadata\n",
    "    da = da.assign_coords({\"date\": date})\n",
    "    da = da.expand_dims({\"date\": 1})\n",
    "    da.name = \"NDVI\"\n",
    "\n",
    "    # Divide by scale factor\n",
    "    da = da / scale_factor\n",
    "\n",
    "    # Add the DataArray to the end of the accumulator list\n",
    "    ndvi_da_list.append(da)\n",
    "ndvi_da_list"
   ]
  },
  {
   "cell_type": "code",
   "execution_count": null,
   "metadata": {},
   "outputs": [],
   "source": [
    "ndvi_ds = xr.combine_by_coords(ndvi_da_list, coords=['date'])\n",
    "ndvi_ds"
   ]
  },
  {
   "cell_type": "code",
   "execution_count": null,
   "metadata": {},
   "outputs": [],
   "source": [
    "# Calculate the change in NDVI pre- and post- fire\n",
    "\n",
    "import matplotlib.pyplot as plt\n",
    "\n",
    "dndvi_da = (ndvi_ds\n",
    "    .sel(date='2019')\n",
    "    .mean('date')\n",
    "    .NDVI\n",
    "- ndvi_ds\n",
    "    .sel(date='2017')\n",
    "    .mean('date')\n",
    "    .NDVI)\n",
    "\n",
    "dndvi_da.plot(cmap=plt.colormaps['PiYG'])\n",
    "reynolds_df.plot(facecolor='none', ax=plt.gca())\n",
    "\n",
    "plt.show()"
   ]
  },
  {
   "cell_type": "code",
   "execution_count": null,
   "metadata": {},
   "outputs": [],
   "source": [
    "# Get the area outside the fire boundary\n",
    "\n",
    "out_gdf = gpd.GeoDataFrame(geometry=reynolds_df.envelope).overlay(\n",
    "    reynolds_df, how=\"difference\"\n",
    ")\n",
    "out_gdf"
   ]
  },
  {
   "cell_type": "code",
   "execution_count": null,
   "metadata": {},
   "outputs": [],
   "source": [
    "ndvi_fire_ds = ndvi_ds.rio.clip(reynolds_df.geometry)\n",
    "ndvi_out_ds = ndvi_ds.rio.clip(out_gdf.geometry)"
   ]
  },
  {
   "cell_type": "code",
   "execution_count": null,
   "metadata": {},
   "outputs": [],
   "source": [
    "ndvi_fire_df = (\n",
    "    ndvi_fire_ds\n",
    "    .groupby(ndvi_fire_ds.date.dt.year)\n",
    "    .mean(...)\n",
    "    .NDVI\n",
    "    .to_dataframe()[['NDVI']])\n",
    "ndvi_out_df = (\n",
    "    ndvi_out_ds\n",
    "    .groupby(ndvi_out_ds.date.dt.year)\n",
    "    .mean(...)\n",
    "    .NDVI\n",
    "    .to_dataframe()[['NDVI']])\n",
    "\n",
    "print(round((ndvi_fire_df - ndvi_out_df).sum(), 2).sum())\n",
    "(ndvi_fire_df, ndvi_out_df)"
   ]
  },
  {
   "cell_type": "code",
   "execution_count": null,
   "metadata": {},
   "outputs": [],
   "source": [
    "(ndvi_fire_df - ndvi_out_df).hvplot(\n",
    "    xlabel=('Year'), ylabel='dNDVI',\n",
    "    title='Difference in NDVI between inside and outside Reynolds Lake Fire boundary'\n",
    ")"
   ]
  },
  {
   "cell_type": "code",
   "execution_count": null,
   "metadata": {},
   "outputs": [],
   "source": [
    "%%capture\n",
    "%%bash\n",
    "jupyter nbconvert reynoldslake-ndvi.ipynb --to html --no-input"
   ]
  }
 ],
 "metadata": {
  "kernelspec": {
   "display_name": "base",
   "language": "python",
   "name": "python3"
  },
  "language_info": {
   "codemirror_mode": {
    "name": "ipython",
    "version": 3
   },
   "file_extension": ".py",
   "mimetype": "text/x-python",
   "name": "python",
   "nbconvert_exporter": "python",
   "pygments_lexer": "ipython3",
   "version": "3.10.11"
  },
  "orig_nbformat": 4
 },
 "nbformat": 4,
 "nbformat_minor": 2
}
